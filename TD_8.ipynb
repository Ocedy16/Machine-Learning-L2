{
  "nbformat": 4,
  "nbformat_minor": 0,
  "metadata": {
    "colab": {
      "provenance": [],
      "authorship_tag": "ABX9TyM4uMVlo8ZN+vQVdg5ogj23",
      "include_colab_link": true
    },
    "kernelspec": {
      "name": "python3",
      "display_name": "Python 3"
    },
    "language_info": {
      "name": "python"
    }
  },
  "cells": [
    {
      "cell_type": "markdown",
      "metadata": {
        "id": "view-in-github",
        "colab_type": "text"
      },
      "source": [
        "<a href=\"https://colab.research.google.com/github/Ocedy16/Machine-Learning-L2/blob/main/TD_8.ipynb\" target=\"_parent\"><img src=\"https://colab.research.google.com/assets/colab-badge.svg\" alt=\"Open In Colab\"/></a>"
      ]
    },
    {
      "cell_type": "code",
      "execution_count": null,
      "metadata": {
        "colab": {
          "base_uri": "https://localhost:8080/"
        },
        "id": "mStWPmAXSJai",
        "outputId": "8a21354d-85e9-489e-dc89-26f8e45cc650"
      },
      "outputs": [
        {
          "output_type": "stream",
          "name": "stdout",
          "text": [
            "Erreur de test :  2859.4892877936527\n"
          ]
        }
      ],
      "source": [
        "import numpy as np\n",
        "\n",
        "from sklearn.datasets import fetch_california_housing\n",
        "data = fetch_california_housing()\n",
        "X = data.data\n",
        "y = data.target\n",
        "\n",
        "from sklearn.model_selection import train_test_split\n",
        "from sklearn.linear_model import LinearRegression\n",
        "X_train, X_test, y_train, y_test = train_test_split(X,y)\n",
        "\n",
        "logreg = LinearRegression()\n",
        "logreg.fit(X_train, y_train)\n",
        "\n",
        "sum = 0\n",
        "\n",
        "for value in (logreg.predict(X_test)-y_test)**2:\n",
        "  sum = sum + value\n",
        "\n",
        "print(\"Erreur de test : \",sum)"
      ]
    },
    {
      "cell_type": "code",
      "source": [
        "print (\"Score R² : \", logreg.score(X_test,y_test))"
      ],
      "metadata": {
        "colab": {
          "base_uri": "https://localhost:8080/"
        },
        "id": "8e-KSmTTWRz6",
        "outputId": "f6fdb35f-24f4-49c8-cb07-1240ee322e54"
      },
      "execution_count": null,
      "outputs": [
        {
          "output_type": "stream",
          "name": "stdout",
          "text": [
            "Score R² :  0.5953575949728789\n"
          ]
        }
      ]
    },
    {
      "cell_type": "code",
      "source": [
        "from sklearn.linear_model import LassoCV\n",
        "alphas = range(1, 10000)\n",
        "lasso = LassoCV(alphas = alphas, cv = 7)\n",
        "lasso.fit(X_train,y_train)\n",
        "lasso.score(X_test,y_test)"
      ],
      "metadata": {
        "colab": {
          "base_uri": "https://localhost:8080/"
        },
        "id": "UtjsfXDnWe4u",
        "outputId": "290dfed7-aca2-4fcb-f309-a28f612ddeea"
      },
      "execution_count": null,
      "outputs": [
        {
          "output_type": "execute_result",
          "data": {
            "text/plain": [
              "0.2775597544165336"
            ]
          },
          "metadata": {},
          "execution_count": 27
        }
      ]
    },
    {
      "cell_type": "code",
      "source": [
        "from sklearn.linear_model import RidgeCV\n",
        "ridge = RidgeCV(alphas = alphas)\n",
        "ridge.fit(X_train, y_train)\n",
        "ridge.score(X_test,y_test)"
      ],
      "metadata": {
        "colab": {
          "base_uri": "https://localhost:8080/"
        },
        "id": "90OQEsC3YJnh",
        "outputId": "184ed0f3-300b-4e88-b7ca-c0a699af7184"
      },
      "execution_count": null,
      "outputs": [
        {
          "output_type": "execute_result",
          "data": {
            "text/plain": [
              "0.5953951148969018"
            ]
          },
          "metadata": {},
          "execution_count": 38
        }
      ]
    },
    {
      "cell_type": "code",
      "source": [
        "from sklearn.kernel_ridge import KernelRidge\n",
        "kr = KernelRidge(kernel = \"rbf\", alpha = 0.001, gamma = 0.OO1)\n",
        "print(kr.fit(X_train,y_train).score(X_test,y_test))"
      ],
      "metadata": {
        "id": "yyT0HwDMY5u_"
      },
      "execution_count": null,
      "outputs": []
    }
  ]
}