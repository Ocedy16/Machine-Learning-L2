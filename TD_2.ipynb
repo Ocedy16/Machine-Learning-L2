{
  "nbformat": 4,
  "nbformat_minor": 0,
  "metadata": {
    "colab": {
      "provenance": [],
      "authorship_tag": "ABX9TyOYW9O9YlMuAZNA3FiAT0ai",
      "include_colab_link": true
    },
    "kernelspec": {
      "name": "python3",
      "display_name": "Python 3"
    },
    "language_info": {
      "name": "python"
    }
  },
  "cells": [
    {
      "cell_type": "markdown",
      "metadata": {
        "id": "view-in-github",
        "colab_type": "text"
      },
      "source": [
        "<a href=\"https://colab.research.google.com/github/Ocedy16/Machine-Learning-L2/blob/main/TD_2.ipynb\" target=\"_parent\"><img src=\"https://colab.research.google.com/assets/colab-badge.svg\" alt=\"Open In Colab\"/></a>"
      ]
    },
    {
      "cell_type": "code",
      "execution_count": null,
      "metadata": {
        "colab": {
          "base_uri": "https://localhost:8080/"
        },
        "id": "f6dPjo2yJajy",
        "outputId": "7a95a405-a05a-4b78-a8a6-c7fe49f362a4"
      },
      "outputs": [
        {
          "output_type": "stream",
          "name": "stdout",
          "text": [
            "0.9666666666666667\n",
            "0.95\n"
          ]
        }
      ],
      "source": [
        "import numpy as np\n",
        "import seaborn as sns\n",
        "import pandas as pd\n",
        "import matplotlib.pyplot as plt\n",
        "\n",
        "iris=sns.load_dataset(\"iris\")\n",
        "iris.head()\n",
        "#sns.set()\n",
        "#sns.pairplot(iris, hue=\"species\")\n",
        "#plt.show()\n",
        "X=iris[[\"petal_length\",\"petal_width\"]]\n",
        "y=iris[\"species\"]\n",
        "X_train=X[0:90]\n",
        "y_train=y[0:90]\n",
        "X_test=X[90:]\n",
        "y_test=y[90:]\n",
        "\n",
        "\n",
        "from sklearn.utils import shuffle\n",
        "X, y= shuffle(X,y)\n",
        "X_train=X[:90]\n",
        "y_train=y[:90]\n",
        "X_test=X[90:]\n",
        "y_test=y[90:]\n",
        "X_train\n",
        "y_train\n",
        "\n",
        "from sklearn.neighbors import KNeighborsClassifier\n",
        "knn=KNeighborsClassifier(n_neighbors=3)\n",
        "knn.fit(X_train, y_train)\n",
        "print(knn.score(X_train, y_train))\n",
        "print(knn.score(X_test,y_test))\n",
        "#Score est 1-error\n"
      ]
    },
    {
      "cell_type": "code",
      "source": [
        "score_train=[]\n",
        "score_test=[]\n",
        "for k in range (1,21):\n",
        "  knn=KNeighborsClassifier(n_neighbors=k)\n",
        "  knn.fit(X_train,y_train)\n",
        "  score_test.append(knn.score(X_test,y_test))\n",
        "  score_train.append(knn.score(X_train,y_train))\n",
        "plt.plot(range(1,21),score_train)\n",
        "plt.plot(range(1,21),score_test)\n",
        "plt.show()"
      ],
      "metadata": {
        "colab": {
          "base_uri": "https://localhost:8080/",
          "height": 430
        },
        "id": "lcd2sen5KZVm",
        "outputId": "d38ff49e-90ed-422b-c56a-175c689faf0a"
      },
      "execution_count": null,
      "outputs": [
        {
          "output_type": "display_data",
          "data": {
            "text/plain": [
              "<Figure size 640x480 with 1 Axes>"
            ],
            "image/png": "[encoded data removed]"
          },
          "metadata": {}
        }
      ]
    },
    {
      "cell_type": "code",
      "source": [
        "def best_knn_score (X,y):\n",
        "  X, y= shuffle(X,y)\n",
        "  X_train=X[:90]\n",
        "  y_train=y[:90]\n",
        "  X_test=X[90:]\n",
        "  y_test=y[90:]\n",
        "\n",
        "  score_train=[]\n",
        "  score_test=[]\n",
        "  for k in range (1,21):\n",
        "    knn=KNeighborsClassifier(n_neighbors=k)\n",
        "    knn.fit(X_train,y_train)\n",
        "    score_test.append(knn.score(X_test,y_test))\n",
        "  return max(score_test)\n",
        "\n",
        "best_knn_score(X,y)\n"
      ],
      "metadata": {
        "colab": {
          "base_uri": "https://localhost:8080/"
        },
        "id": "Qe1Hr_iJMzZG",
        "outputId": "55ec402c-c75a-4697-f0a7-c9c1021d0476"
      },
      "execution_count": null,
      "outputs": [
        {
          "output_type": "execute_result",
          "data": {
            "text/plain": [
              "0.9666666666666667"
            ]
          },
          "metadata": {},
          "execution_count": 52
        }
      ]
    },
    {
      "cell_type": "code",
      "source": [
        "def best_knn_score_avg(X,y):\n",
        "  scores=[]\n",
        "  for i in range(100):\n",
        "    scores.append(best_knn_score(X,y))\n",
        "  return np.mean(scores)\n",
        "\n",
        "best_knn_score_avg(X,y)\n"
      ],
      "metadata": {
        "colab": {
          "base_uri": "https://localhost:8080/"
        },
        "id": "PGXRHbtHMWyR",
        "outputId": "0bb467ce-1b36-41f1-d6fb-53b039862437"
      },
      "execution_count": null,
      "outputs": [
        {
          "output_type": "execute_result",
          "data": {
            "text/plain": [
              "0.9731666666666666"
            ]
          },
          "metadata": {},
          "execution_count": 53
        }
      ]
    },
    {
      "cell_type": "code",
      "source": [
        "X_=X.copy()\n",
        "\n",
        "for i in range (len(X_[\"petal_length\"])):\n",
        "  X_[\"petal_length\"][i]=X[\"petal_length\"][i]/100\n",
        "\n",
        "best_knn_score_avg(X_,y)"
      ],
      "metadata": {
        "colab": {
          "base_uri": "https://localhost:8080/"
        },
        "id": "X4PglxTyQPbD",
        "outputId": "2012fe2d-aa76-4955-8a54-dd0a64e2c716"
      },
      "execution_count": null,
      "outputs": [
        {
          "output_type": "execute_result",
          "data": {
            "text/plain": [
              "0.9690000000000001"
            ]
          },
          "metadata": {},
          "execution_count": 54
        }
      ]
    },
    {
      "cell_type": "code",
      "source": [
        "X_=X.copy()\n",
        "for i in range (len(X_[\"petal_width\"])):\n",
        "  X_[\"petal_width\"][i]=X[\"petal_width\"][i]/100\n",
        "\n",
        "best_knn_score_avg(X_,y)"
      ],
      "metadata": {
        "colab": {
          "base_uri": "https://localhost:8080/"
        },
        "id": "V3sevvr6RslU",
        "outputId": "cb65f7c3-d696-48d3-a1b6-c1516c6d4173"
      },
      "execution_count": null,
      "outputs": [
        {
          "output_type": "execute_result",
          "data": {
            "text/plain": [
              "0.9646666666666667"
            ]
          },
          "metadata": {},
          "execution_count": 55
        }
      ]
    },
    {
      "cell_type": "code",
      "source": [
        "from sklearn import preprocessing\n",
        "X_scaled = preprocessing.scale(X)\n",
        "best_knn_score_avg(X_scaled,y)\n",
        "#Cela n'améliore pas les résultats à tous les coups."
      ],
      "metadata": {
        "colab": {
          "base_uri": "https://localhost:8080/"
        },
        "id": "P9alX5hjSAmv",
        "outputId": "2763da51-81af-47bd-f154-de0a94d7902a"
      },
      "execution_count": null,
      "outputs": [
        {
          "output_type": "execute_result",
          "data": {
            "text/plain": [
              "0.9761666666666666"
            ]
          },
          "metadata": {},
          "execution_count": 56
        }
      ]
    },
    {
      "cell_type": "code",
      "source": [
        "#X_complet=iris[[\"petal_width\",\"petal_length\",\"sepal_length\",\"sepal_width\"]]\n",
        "X_complet=iris.values[:,0:4]\n",
        "y=iris.values[:,4]\n",
        "best_knn_score_avg(X_complet,y)"
      ],
      "metadata": {
        "colab": {
          "base_uri": "https://localhost:8080/"
        },
        "id": "RE4OjGWHSeIG",
        "outputId": "ab8037d2-4df2-4ae6-86b4-c42a3c0e7a23"
      },
      "execution_count": null,
      "outputs": [
        {
          "output_type": "execute_result",
          "data": {
            "text/plain": [
              "0.9775"
            ]
          },
          "metadata": {},
          "execution_count": 57
        }
      ]
    }
  ]
}